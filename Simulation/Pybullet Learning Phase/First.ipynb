{
 "cells": [
  {
   "cell_type": "code",
   "execution_count": 1,
   "metadata": {},
   "outputs": [],
   "source": [
    "def forward_kinematics(theta1, theta2, l1, l2):\n",
    "    '''\n",
    "    Forward kinematics module for a serial-2R chain.\n",
    "    The base of the manipulator is assumed to be placed at the\n",
    "    coordinates [0,0].\n",
    "    All the joints allow rotation about the positive Z-axis.\n",
    "    Args:\n",
    "    --- theta1: Angle between the link l1 and the positive x-axis (in radians)\n",
    "    --- theta2: Relative angle between link l1 and link l2 (in radians)\n",
    "    --- l1: Length of link l1 (in m)\n",
    "    --- l2: Length of link l2 (in m)\n",
    "    Ret:\n",
    "    --- [x, y]: Position co-ordinates of the end-effector (in m)\n",
    "    '''\n",
    "    x = l1*math.cos(theta1) + l2*math.cos(theta1 + theta2)\n",
    "    y = l1*math.sin(theta1) + l2*math.sin(theta1 + theta2)\n",
    "    return [x, y]"
   ]
  },
  {
   "cell_type": "code",
   "execution_count": 2,
   "metadata": {},
   "outputs": [],
   "source": [
    "def inverse_kinematics(x, y, l1, l2, branch=1):\n",
    "    '''\n",
    "    Inverse kinematics modules for the serial-2R manipulator.\n",
    "    The base of the manipulator is placed at [0,0].\n",
    "    Axis of rotation is the Z+ axis.\n",
    "    Args:\n",
    "    --- x : X co-ordinate of the end-effector\n",
    "    --- y : Y co-ordinate of the end-effector\n",
    "    --- l1: Length of link l1\n",
    "    --- l2: Length of link l2\n",
    "    --- branch: Branch of the inverse kinematics solution.\n",
    "    Ret:\n",
    "    --- valid: Binary variable indicating if the solution is valid or not\n",
    "    --- [theta1, theta2]: Angles made by link l1 w.r.t X+ axis and the relative\n",
    "                    angle between links l1 and l2 respectively.\n",
    "    '''\n",
    "    a = 2*x*l2\n",
    "    b = 2*y*l2\n",
    "    c =  l1*l1 - x*x - y*y  - l2*l2 \n",
    "    psi = math.atan2(b, a)\n",
    "    d = -c/math.sqrt(a*a + b*b)\n",
    "    \n",
    "    if (d < -1) or (d > 1):\n",
    "        print(\"Position out of workspace.\")\n",
    "        return False, [0,0]\n",
    "    if branch == 1:\n",
    "        theta12 = psi + math.acos(-c/math.sqrt(a*a + b*b))\n",
    "    else:\n",
    "        theta12 = psi - math.acos(-c/math.sqrt(a*a + b*b))\n",
    "        \n",
    "    theta1 = math.atan2((y - l2*math.sin(theta12))/l1, (x - l2*math.cos(theta12))/l1)\n",
    "    return True, [theta1, theta12-theta1]"
   ]
  },
  {
   "cell_type": "code",
   "execution_count": 4,
   "metadata": {},
   "outputs": [
    {
     "name": "stdout",
     "output_type": "stream",
     "text": [
      "-5.828670879282072e-16 9.992007221626409e-16\n",
      "7.771561172376096e-16 -1.2212453270876722e-15\n",
      "9.71445146547012e-16 -1.4432899320127035e-15\n",
      "-1.4432899320127035e-15 2.220446049250313e-15\n",
      "-4.440892098500626e-16 6.661338147750939e-16\n"
     ]
    }
   ],
   "source": [
    "#############\n",
    "#Verification\n",
    "#############\n",
    "\n",
    "#Verify the correctness of the FK and IK modules by \n",
    "# checking them against each other.\n",
    "\n",
    "\n",
    "import math\n",
    "import numpy\n",
    "\n",
    "# Add know angles to check if the end-effector position is as desired\n",
    "#[x, y] = forward_kinematics(math.pi/2, 0, 1, 2)\n",
    "\n",
    "# Add end-effector positions for which the joint angles are known. \n",
    "#valid, [theta1, theta2] = inverse_kinematics(0, -3.0, 1, 2)\n",
    "\n",
    "\n",
    "\n",
    "# Verify the FK against IK for random inputs\n",
    "#  Random input -> FK -> IK -> Output\n",
    "# Check that the output is the same as the random input\n",
    "l1 = 1\n",
    "l2 = 2\n",
    "for _ in range(5):\n",
    "    theta1 = numpy.random.rand()\n",
    "    theta2 = numpy.random.rand()\n",
    "\n",
    "    [x, y] = forward_kinematics(theta1, theta2, l1, l2)\n",
    "    valid, [t1, t2] = inverse_kinematics(x, y, l1, l2)\n",
    "\n",
    "    print(t1 - theta1, t2 - theta2)"
   ]
  },
  {
   "cell_type": "code",
   "execution_count": null,
   "metadata": {},
   "outputs": [],
   "source": []
  }
 ],
 "metadata": {
  "kernelspec": {
   "display_name": "Python [conda env:pyb_env] *",
   "language": "python",
   "name": "conda-env-pyb_env-py"
  },
  "language_info": {
   "codemirror_mode": {
    "name": "ipython",
    "version": 3
   },
   "file_extension": ".py",
   "mimetype": "text/x-python",
   "name": "python",
   "nbconvert_exporter": "python",
   "pygments_lexer": "ipython3",
   "version": "3.8.5"
  }
 },
 "nbformat": 4,
 "nbformat_minor": 4
}
