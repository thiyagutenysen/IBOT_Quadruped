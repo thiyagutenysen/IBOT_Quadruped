{
 "cells": [
  {
   "cell_type": "code",
   "execution_count": 1,
   "metadata": {},
   "outputs": [],
   "source": [
    "###############################\n",
    "# Import the necessary modules\n",
    "###############################\n",
    "\n",
    "# The PyBullet physics simulation library\n",
    "import pybullet as pb\n",
    "import pybullet_data\n",
    "\n",
    "# Numpy for numerical calculations and manipulations\n",
    "import numpy as np\n",
    "import math\n",
    "\n",
    "# Matplotlib to create the necessary plots\n",
    "import matplotlib.pyplot as plt"
   ]
  },
  {
   "cell_type": "code",
   "execution_count": 2,
   "metadata": {},
   "outputs": [],
   "source": [
    "##############################################################\n",
    "# Create an instance of the Physics Server and connect to it\n",
    "##############################################################\n",
    "\n",
    "# Use p.DIRECT to connect to the server without rendering a GUI\n",
    "# Use p.GUI to create a GUI to render the simulation\n",
    "client = pb.connect(pb.GUI) # or p.GUI\n",
    "\n",
    "\n",
    "# Load the URDF of the plane that forms the ground\n",
    "pb.setAdditionalSearchPath(pybullet_data.getDataPath()) # Set the search path to find the plane.urdf file\n",
    "plane = pb.loadURDF(\"plane.urdf\")\n",
    "\n",
    "\n",
    "# Load the URDF of the robot\n",
    "scara = pb.loadURDF(\"scara_robot_left.urdf\")"
   ]
  },
  {
   "cell_type": "code",
   "execution_count": 3,
   "metadata": {},
   "outputs": [],
   "source": [
    "##################################################\n",
    "# Set the necessary parameters for the simulation\n",
    "##################################################\n",
    "\n",
    "# Set the Gravity vector\n",
    "pb.setGravity(0,0,-9.81, physicsClientId = client)\n",
    "\n",
    "# Set the simulation time-step\n",
    "pb.setTimeStep(0.001) #The lower this is, more accurate the simulation \n",
    "\n",
    "# You can be faster than real-time if you choose\n",
    "#p.setRealTimeSimulation(0)  # we want to be faster than real time."
   ]
  },
  {
   "cell_type": "code",
   "execution_count": 4,
   "metadata": {},
   "outputs": [],
   "source": [
    "#################################\n",
    "# Enable the motors on the joints \n",
    "#################################\n",
    "\n",
    "# This step is required to enable torque control. Refer to the documentation for more details.\n",
    "pb.setJointMotorControl2(scara, 1, pb.VELOCITY_CONTROL,targetVelocity=0.5, force=5)\n",
    "#pb.setJointMotorControl2(scara, 2, pb.VELOCITY_CONTROL, force=0)"
   ]
  },
  {
   "cell_type": "code",
   "execution_count": 5,
   "metadata": {},
   "outputs": [],
   "source": [
    "dt     = 0.00001 # Simulation time-step\n",
    "f      = 1.0 # Frequency of oscillation (1 Hz)\n",
    "omega  = 2*math.pi*f # Angular frequency\n",
    "theta0 = 0 # Start position\n",
    "p_des = np.zeros(100000)\n",
    "for i in range(100000):\n",
    "    t = i*dt\n",
    "    p_des[i] = 10*t"
   ]
  },
  {
   "cell_type": "code",
   "execution_count": 6,
   "metadata": {},
   "outputs": [],
   "source": [
    "##########################################\n",
    "# Control loop to follow the trajectory\n",
    "##########################################\n",
    "# Kinematics for serial-2\n",
    "    \n",
    "    \n",
    "dt     = 0.00001 # simulation time-step\n",
    "p_gain = 1000 # Proportional gain\n",
    "d_gain = 500 # Derivative gain\n",
    "error  = 0\n",
    "error_old = 0\n",
    "\n",
    "for i in range(100000):\n",
    "    pos1, _, _, _ = pb.getJointState(scara,1)\n",
    "    \n",
    "    error_old = error\n",
    "    error = p_des[i] - pos1\n",
    "    error_d = (error - error_old)/dt\n",
    "    control_force = p_gain * error + d_gain * error_d\n",
    "    control_force = np.clip(control_force, -500, 500)\n",
    "    pb.setJointMotorControl2(scara, 1, pb.TORQUE_CONTROL, force=control_force)\n",
    "    pb.stepSimulation()\n",
    "\n",
    "\n",
    "# Check if the robot has reached the desired position\n",
    "pos1, _, _, _ = pb.getJointState(scara, 1)\n",
    "pos2, _, _, _ = pb.getJointState(scara, 2)"
   ]
  },
  {
   "cell_type": "code",
   "execution_count": 7,
   "metadata": {},
   "outputs": [],
   "source": [
    "pb.disconnect()"
   ]
  },
  {
   "cell_type": "code",
   "execution_count": null,
   "metadata": {},
   "outputs": [],
   "source": []
  }
 ],
 "metadata": {
  "kernelspec": {
   "display_name": "Python [conda env:pyb_env] *",
   "language": "python",
   "name": "conda-env-pyb_env-py"
  },
  "language_info": {
   "codemirror_mode": {
    "name": "ipython",
    "version": 3
   },
   "file_extension": ".py",
   "mimetype": "text/x-python",
   "name": "python",
   "nbconvert_exporter": "python",
   "pygments_lexer": "ipython3",
   "version": "3.8.5"
  }
 },
 "nbformat": 4,
 "nbformat_minor": 4
}
